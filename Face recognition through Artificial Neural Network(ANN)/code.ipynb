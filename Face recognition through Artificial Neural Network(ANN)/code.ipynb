{
 "cells": [
  {
   "cell_type": "code",
   "execution_count": 12,
   "metadata": {
    "collapsed": false,
    "deletable": true,
    "editable": true
   },
   "outputs": [],
   "source": [
    "# importing libraries\n",
    "import numpy as np                      \n",
    "import matplotlib.pyplot as plt         \n",
    "from PIL import Image, ImageOps         \n",
    "from statistics import mean\n",
    "import math"
   ]
  },
  {
   "cell_type": "code",
   "execution_count": 13,
   "metadata": {
    "collapsed": false,
    "deletable": true,
    "editable": true
   },
   "outputs": [],
   "source": [
    "# loading the input dataset (data extracted to \"dataset1\" folder)\n",
    "input_data = np.array([list(Image.open('Dataset1/s'+str(i+1)+'/'+str(j+1)+'.pgm').convert('L').getdata()) for j in range(10) for i in range(40)])\n",
    "\n",
    "# Splitting the input dataset(400 images) to training set 60%(240) and testing set 40%(160)\n",
    "train_set = input_data[:240]\n",
    "test_set = input_data[240:]"
   ]
  },
  {
   "cell_type": "code",
   "execution_count": 14,
   "metadata": {
    "collapsed": true,
    "deletable": true,
    "editable": true
   },
   "outputs": [],
   "source": [
    "# calculating the mean image of training set\n",
    "Mean = np.array([mean([p[k] for p in train_set]) for k in range(92*112)])\n",
    "\n",
    "# calculating mean zero matrix for train_set\n",
    "mean_cent_train_set = np.array([p - Mean for p in train_set])\n",
    "\n",
    "# calculating mean zero matrix for test_set                             \n",
    "mean_cent_test_set = np.array([p - Mean for p in test_set])  \n",
    "\n",
    "# calculating co-variance matrix\n",
    "cov_mat = np.matmul(mean_cent_train_set, mean_cent_train_set.T) / len(mean_cent_train_set)   \n",
    "\n",
    "# calculating eigenvalues and eigenvectors\n",
    "eigen_values, eigen_vectors = np.linalg.eig(cov_mat)  \n",
    "\n",
    "# sorting the eigenvectors based on eigenvalues\n",
    "index = eigen_values.argsort()[::-1]\n",
    "eigen_values = eigen_values[index]\n",
    "eigen_vectors = eigen_vectors[:, index]"
   ]
  },
  {
   "cell_type": "code",
   "execution_count": 18,
   "metadata": {
    "collapsed": true,
    "deletable": true,
    "editable": true
   },
   "outputs": [],
   "source": [
    "# from the observation of PCA accuracy k is choosen\n",
    "k=19\n",
    "\n",
    "# taking the feature vector based on k value\n",
    "feature_vector = eigen_vectors[:, :k]    \n",
    "\n",
    "# calculating eigen faces of train_set\n",
    "eigen_faces = np.matmul(feature_vector.T, mean_cent_train_set )          \n",
    "\n",
    "# calculating eigen face signatures of train_set\n",
    "eigen_signatures = np.matmul(eigen_faces, mean_cent_train_set.T)   \n"
   ]
  },
  {
   "cell_type": "code",
   "execution_count": 19,
   "metadata": {
    "collapsed": false,
    "deletable": true,
    "editable": true
   },
   "outputs": [
    {
     "name": "stderr",
     "output_type": "stream",
     "text": [
      "C:\\Users\\Thanoj kumar\\AppData\\Local\\Enthought\\Canopy\\edm\\envs\\User\\lib\\site-packages\\ipykernel\\__main__.py:53: RuntimeWarning: overflow encountered in exp\n",
      "C:\\Users\\Thanoj kumar\\AppData\\Local\\Enthought\\Canopy\\edm\\envs\\User\\lib\\site-packages\\ipykernel\\__main__.py:109: RuntimeWarning: overflow encountered in exp\n"
     ]
    }
   ],
   "source": [
    "#------------------------ANN------------------------------------\n",
    "\n",
    "# training_set for ANN\n",
    "x = eigen_signatures\n",
    "\n",
    "# no.of neurons in hidden layer\n",
    "n=360\n",
    "\n",
    "# no of clases (no of nodes in outer layer)\n",
    "c=40\n",
    "\n",
    "# Random weights for hidden and outer layer\n",
    "wt_h = np.random.uniform(-0.5,0.5,size=(k,n))\n",
    "wt_o = np.random.uniform(-0.5,0.5,size=(n,c))\n",
    "\n",
    "# To store error of hidden and outer layer\n",
    "er_h = np.zeros(shape=(n), dtype=np.float64) \n",
    "er_o = np.zeros(shape=(c), dtype=np.float64) \n",
    "\n",
    "# Random threshold values for hidden and outer layer\n",
    "th_h = np.random.uniform(.10,1.0,size=(n))\n",
    "th_o = np.random.uniform(.10,1.0,size=(c))\n",
    "\n",
    "# To store actual outputs of hidden and outer layer\n",
    "y_h = np.zeros(shape=(n), dtype=np.float64) \n",
    "y_o = np.zeros(shape=(c), dtype=np.float64)\n",
    "\n",
    "# learning rate\n",
    "alpha = np.random.uniform(.1,1.0)\n",
    "\n",
    "# let initialize cost funtion\n",
    "e=1\n",
    "\n",
    "# To count the no of epochs(loops)\n",
    "epochs=0\n",
    "\n",
    "# To store accuracy and cost function values for different epochs\n",
    "ep=[]\n",
    "acc=[]\n",
    "cost_func=[]\n",
    "\n",
    "\n",
    "while e > 0.001 :\n",
    "    \n",
    "    # initialzing cost function for every epoch\n",
    "    e=0\n",
    "    \n",
    "    # for every image in training set\n",
    "    for i in range(len(x[1])):\n",
    "        \n",
    "        # calculating actual output of hidden layer\n",
    "        for j in range(n):\n",
    "            y_h[j] = 1 / (1 + np.exp( -1*(x[:,i] @ wt_h[:,j] - th_h[j]) ))\n",
    "\n",
    "        # calculating actual output of outer layer\n",
    "        for j in range(c):\n",
    "            y_o[j] = 1 / (1 + np.exp( -1*(y_h @ wt_o[:,j] - th_o[j]) ))\n",
    "\n",
    "        # expected output or correct output\n",
    "        req_out = np.zeros(shape=(c),dtype=np.float64)\n",
    "        req_out[int(i%40)] = 1\n",
    "\n",
    "        # Adding to cost to Cost function for every image\n",
    "        e += (req_out - y_o) @ (req_out - y_o)\n",
    "\n",
    "        # Errors of outer layer\n",
    "        er_o = y_o*(1 - y_o)*(req_out - y_o)\n",
    "        \n",
    "        # errors of hidden layer\n",
    "        for j in range(n):\n",
    "            er_h[j] = y_h[j]*(1-y_h[j])*(er_o @ wt_o[j,:])\n",
    "\n",
    "        # correction in hidden layer weights        \n",
    "        for j in range(n):\n",
    "            wt_h[:,j] = wt_h[:,j] + alpha*x[:,i]*er_h[j]\n",
    "\n",
    "        # correction in outer layer weights\n",
    "        for j in range(c):\n",
    "            wt_o[:,j] = wt_o[:,j] + alpha*y_h*er_o[j]\n",
    "\n",
    "        # correction in hidden layer threshold       \n",
    "        th_h = th_h + alpha*(-1)*er_h\n",
    "\n",
    "        # correction in output layer threshold \n",
    "        th_o = th_o + alpha*(-1)*er_o\n",
    "\n",
    "\n",
    "    # incrementing epoch\n",
    "    epochs+=1\n",
    "    \n",
    "    # calculating accuracy for every 25 epochs\n",
    "    # testing for every 25 epochs\n",
    "    if epochs%25 == 0:\n",
    "        \n",
    "        # to store the count of wrong predictions\n",
    "        wrng = 0\n",
    "        \n",
    "        # to store actual output of hidden and outer layers of test set \n",
    "        y_ht = np.zeros(shape=(n), dtype=np.float64) \n",
    "        y_ot = np.zeros(shape=(c), dtype=np.float64)\n",
    "        \n",
    "        for l in range(len(mean_cent_test_set)):\n",
    "            \n",
    "            # test image vector to compare with eigen signatures\n",
    "            test_img = eigen_faces @ mean_cent_test_set[l]\n",
    "\n",
    "            # calculating actual ouput of hidden layer of test_set\n",
    "            for j in range(n):\n",
    "                y_ht[j] = 1 / (1 + np.exp( -1*(test_img @ wt_h[:,j] - th_h[j]) ))\n",
    "\n",
    "            # calculating actual ouput of outer layer of test_set \n",
    "            for j in range(c):\n",
    "                y_ot[j] = 1 / (1 + np.exp( -1*(y_ht @ wt_o[:,j] - th_o[j]) ))\n",
    "            \n",
    "            # finding the prediction of class it belongs to.\n",
    "            index = np.argmax(y_ot)\n",
    "            \n",
    "            # incrementing if predicted wrong\n",
    "            if index != int(l%40):\n",
    "                wrng+=1\n",
    "\n",
    "        acc.append((160-wrng)/160)\n",
    "        ep.append(epochs)\n",
    "        cost_func.append(e)\n",
    "        print(\"epoch - \",epochs,\" cost function - \",e,\" accuracy - \",acc[-1])\n",
    "    \n",
    "    # breaking the loop for 1500 epochs\n",
    "    if epochs>1500:\n",
    "        break\n"
   ]
  },
  {
   "cell_type": "code",
   "execution_count": 21,
   "metadata": {
    "collapsed": false,
    "deletable": true,
    "editable": true
   },
   "outputs": [
    {
     "data": {
      "image/png": "[encoded data removed]",
      "text/plain": [
       "<matplotlib.figure.Figure at 0x17cd4856550>"
      ]
     },
     "metadata": {},
     "output_type": "display_data"
    }
   ],
   "source": [
    "# plotting Accuracy vs epoch values\n",
    "plt.plot(ep,acc,'.g-')\n",
    "plt.xlabel('No. of Epochs')\n",
    "plt.ylabel('Accuracy')\n",
    "plt.title('Accuracy vs No. of Epochs')\n",
    "plt.show()"
   ]
  },
  {
   "cell_type": "code",
   "execution_count": 22,
   "metadata": {
    "collapsed": false,
    "deletable": true,
    "editable": true
   },
   "outputs": [
    {
     "data": {
      "image/png": "[encoded data removed]",
      "text/plain": [
       "<matplotlib.figure.Figure at 0x17cd47e3dd8>"
      ]
     },
     "metadata": {},
     "output_type": "display_data"
    }
   ],
   "source": [
    "# plotting cost function vs epoch values\n",
    "plt.plot(ep,cost_func,'.r-')\n",
    "plt.xlabel('No. of Epochs')\n",
    "plt.ylabel('Cost function')\n",
    "plt.title('Cost function vs No. of Epochs')\n",
    "plt.show()"
   ]
  },
  {
   "cell_type": "code",
   "execution_count": 24,
   "metadata": {
    "collapsed": false
   },
   "outputs": [],
   "source": [
    "# From the plots, it is clear that:\n",
    "#  a. Accuracy increases with increase in no. of epochs.\n",
    "#  b. Cost function(loss) dereases with increase in no. of epochs.\n",
    "#  c. Accuracy increases with decrease in cost function."
   ]
  },
  {
   "cell_type": "code",
   "execution_count": null,
   "metadata": {
    "collapsed": true
   },
   "outputs": [],
   "source": []
  }
 ],
 "metadata": {
  "kernelspec": {
   "display_name": "Python 3",
   "language": "python",
   "name": "python3"
  },
  "language_info": {
   "codemirror_mode": {
    "name": "ipython",
    "version": 3
   },
   "file_extension": ".py",
   "mimetype": "text/x-python",
   "name": "python",
   "nbconvert_exporter": "python",
   "pygments_lexer": "ipython3",
   "version": "3.5.2"
  }
 },
 "nbformat": 4,
 "nbformat_minor": 2
}
