{
 "cells": [
  {
   "cell_type": "code",
   "execution_count": 1,
   "metadata": {
    "collapsed": false,
    "deletable": true,
    "editable": true
   },
   "outputs": [],
   "source": [
    "# importing libraries\n",
    "import numpy as np\n",
    "from matplotlib import pyplot as plt \n",
    "from numpy.linalg import eig"
   ]
  },
  {
   "cell_type": "code",
   "execution_count": 2,
   "metadata": {
    "collapsed": false,
    "deletable": true,
    "editable": true
   },
   "outputs": [],
   "source": [
    "# loading the input dataset (satellite images)\n",
    "input_path = 'input/'\n",
    "input_data = np.ndarray(shape=(512,512,4), dtype=np.integer)\n",
    "for i in range(4):\n",
    "    img = plt.imread(input_path + str(i+1)+'.jpg')\n",
    "    input_data[:,:,i] = np.array(img[:,:,0])"
   ]
  },
  {
   "cell_type": "code",
   "execution_count": 3,
   "metadata": {
    "collapsed": false,
    "deletable": true,
    "editable": true
   },
   "outputs": [],
   "source": [
    "# calculating means\n",
    "mean = np.zeros(shape=(4), dtype=np.float64)\n",
    "for i in range(4):\n",
    "    for j in range(262144):\n",
    "        mean[i] = mean[i] + input_data[int(j/512)][j%512][i]\n",
    "mean = mean/262144\n",
    "\n",
    "\n",
    "# calculating co-variance using mean deviation\n",
    "cov_mat = np.zeros(shape=(4,4), dtype=np.float64)\n",
    "for i in range(4):\n",
    "    for j in range(4):\n",
    "        for k in range(262144):\n",
    "            cov_mat[i][j] = cov_mat[i][j] + (input_data[int(k/512)][k%512][i]-mean[i])*(input_data[int(k/512)][k%512][j]-mean[j])\n",
    "cov_mat = cov_mat/262144"
   ]
  },
  {
   "cell_type": "code",
   "execution_count": 4,
   "metadata": {
    "collapsed": false,
    "deletable": true,
    "editable": true
   },
   "outputs": [],
   "source": [
    "# calculating eigenvalues and eigenvectors\n",
    "eigenvalues, eigenvectors = eig(cov_mat)"
   ]
  },
  {
   "cell_type": "code",
   "execution_count": 5,
   "metadata": {
    "collapsed": false,
    "deletable": true,
    "editable": true
   },
   "outputs": [],
   "source": [
    "# calculating the pricipal components and saving them\n",
    "output = np.zeros(shape=(512,512,4),dtype=np.float64)\n",
    "for x in range(4):\n",
    "    for i in range(512):\n",
    "        for j in range(512):\n",
    "            for k in range(4):\n",
    "                output[i][j][x]+=input_data[i][j][k]*eigenvectors[x][k]\n",
    "    plt.imsave('output/output'+str(x+1)+'.png',output[:,:,x],cmap='gray')"
   ]
  }
 ],
 "metadata": {
  "kernelspec": {
   "display_name": "Python 3",
   "language": "python",
   "name": "python3"
  },
  "language_info": {
   "codemirror_mode": {
    "name": "ipython",
    "version": 3
   },
   "file_extension": ".py",
   "mimetype": "text/x-python",
   "name": "python",
   "nbconvert_exporter": "python",
   "pygments_lexer": "ipython3",
   "version": "3.5.2"
  }
 },
 "nbformat": 4,
 "nbformat_minor": 2
}
