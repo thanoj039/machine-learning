{
 "cells": [
  {
   "cell_type": "code",
   "execution_count": 1,
   "metadata": {
    "collapsed": false,
    "deletable": true,
    "editable": true
   },
   "outputs": [],
   "source": [
    "# importing libraries\n",
    "import numpy as np\n",
    "import matplotlib.pyplot as plt"
   ]
  },
  {
   "cell_type": "code",
   "execution_count": 2,
   "metadata": {
    "collapsed": true,
    "deletable": true,
    "editable": true
   },
   "outputs": [],
   "source": [
    "#-------------- Manitenance Scheduling --------------------#"
   ]
  },
  {
   "cell_type": "code",
   "execution_count": 3,
   "metadata": {
    "collapsed": false,
    "deletable": true,
    "editable": true
   },
   "outputs": [],
   "source": [
    "# initializing the given data\n",
    "capacity = 150\n",
    "intervals = 4\n",
    "units = np.array([20,15,35,40,15,15,10])\n",
    "intervals_req = np.array([2,2,1,1,1,1,1])\n",
    "loads = np.array([80,90,65,70])\n",
    "\n",
    "# possible genes based on the intervals required\n",
    "pool1 = np.array([[1,1,0,0],[0,1,1,0],[0,0,1,1]])\n",
    "pool2 = np.array([[1,0,0,0],[0,1,0,0],[0,0,1,0],[0,0,0,1]])"
   ]
  },
  {
   "cell_type": "code",
   "execution_count": 4,
   "metadata": {
    "collapsed": true,
    "deletable": true,
    "editable": true
   },
   "outputs": [],
   "source": [
    "def fitness(chromosome):\n",
    "    return max(0,min(np.array([capacity - (chromosome[:,i] @ units) for i in range(4)]) - loads))"
   ]
  },
  {
   "cell_type": "code",
   "execution_count": 5,
   "metadata": {
    "collapsed": true,
    "deletable": true,
    "editable": true
   },
   "outputs": [],
   "source": [
    "def crossover(p1,p2,prob):\n",
    "    if np.random.random() < prob:\n",
    "        i = np.random.randint(0,7)\n",
    "        c1 = np.concatenate([p1[0:i],p2[i:7]])\n",
    "        c2 = np.concatenate([p2[0:i],p1[i:7]])\n",
    "        return c1,c2    \n",
    "    return p1,p2"
   ]
  },
  {
   "cell_type": "code",
   "execution_count": 6,
   "metadata": {
    "collapsed": false,
    "deletable": true,
    "editable": true
   },
   "outputs": [],
   "source": [
    "def mutation(c,rate):\n",
    "    if np.random.random() < rate:\n",
    "        i = np.random.randint(0,7)\n",
    "        if i < 2 : c[i] = pool1[np.random.randint(0,3)]\n",
    "        else : c[i] = pool2[np.random.randint(0,4)]\n",
    "    return c"
   ]
  },
  {
   "cell_type": "code",
   "execution_count": 7,
   "metadata": {
    "collapsed": false,
    "deletable": true,
    "editable": true
   },
   "outputs": [],
   "source": [
    "def maintenance_scheduling(N, generations, crossover_prob, mutation_rate):\n",
    "    \n",
    "    # Creating initial population of size N\n",
    "    chromosomes = np.array([[[0,0,0,0],[0,0,0,0],[0,0,0,0],[0,0,0,0],[0,0,0,0],[0,0,0,0],[0,0,0,0]] for i in range(N)])\n",
    "        \n",
    "    for i in range(N):\n",
    "        for j in range(2):                                                # since, first two units required 2 intervals\n",
    "            chromosomes[i][j] = pool1[np.random.randint(0,3)]\n",
    "        for j in range(2,7):                                              # since, remainig units required 1 interval\n",
    "            chromosomes[i][j] = pool2[np.random.randint(0,4)]\n",
    "\n",
    "\n",
    "    best_fitness = [0]*generations\n",
    "    avg_fitness = [0]*generations\n",
    "    \n",
    "    Generations = 0\n",
    "    \n",
    "    # Iterating for the given number of generations\n",
    "    while Generations < generations :\n",
    "        \n",
    "        # calculating the fitness values for the current generation\n",
    "        fitness_values = [fitness(i) for i in chromosomes]\n",
    "        total_fitness = sum(fitness_values)\n",
    "        \n",
    "        # calculating the fitness ratio for the current generation\n",
    "        fitness_ratios = [i/total_fitness for i in fitness_values]\n",
    "\n",
    "        # calculating best fitness and avg fitness values of current generation\n",
    "        best_fitness[Generations] = max(fitness_values)\n",
    "        avg_fitness[Generations] = total_fitness/N\n",
    "\n",
    "        new_Generation = []\n",
    "        \n",
    "        # untill the new generation size equals the current generation\n",
    "        while len(new_Generation) < N:\n",
    "            \n",
    "            # Roulette wheel selection of parents based on fitness ratio\n",
    "            p1 = chromosomes[np.random.choice(N,replace = True,p = fitness_ratios)]\n",
    "            p2 = chromosomes[np.random.choice(N,replace = True,p = fitness_ratios)]\n",
    "            \n",
    "            # crossingover the parents to obtain offsprings\n",
    "            c1,c2 = crossover(p1,p2,crossover_prob)\n",
    "            \n",
    "            # mutation of offsprings\n",
    "            c1 = mutation(c1,mutation_rate)\n",
    "            c2 = mutation(c2,mutation_rate)\n",
    "            \n",
    "            # Adding offsprings to new generation\n",
    "            new_Generation.append(c1)\n",
    "            new_Generation.append(c2)\n",
    "\n",
    "        # Assingning new generation to current generation\n",
    "        chromosomes = new_Generation\n",
    "        Generations += 1\n",
    "        \n",
    "        # extracting some valid schedulings\n",
    "        valid_schedulings = [chromosomes[i] for i in range(N) if fitness_values[i] == best_fitness[-1]]\n",
    "        \n",
    "    return best_fitness, avg_fitness, valid_schedulings\n"
   ]
  },
  {
   "cell_type": "code",
   "execution_count": 8,
   "metadata": {
    "collapsed": false,
    "deletable": true,
    "editable": true
   },
   "outputs": [],
   "source": [
    "def printSchedulings(schedules):\n",
    "    x = 0\n",
    "    while x < min(2,len(schedules)):\n",
    "        schedule = [\"interval1: \",\"interval2: \",\"interval3: \",\"interval4: \"]\n",
    "        chromo = schedules[x]\n",
    "        for i in range(7):\n",
    "            for j in range(4):\n",
    "                if chromo[i][j] == 1:\n",
    "                    schedule[j] += \"|\"+str(units[i])\n",
    "        x+=1\n",
    "        [print(schedule[i]) for i in range(4)]\n",
    "        print('')\n",
    "        "
   ]
  },
  {
   "cell_type": "code",
   "execution_count": 9,
   "metadata": {
    "collapsed": false,
    "deletable": true,
    "editable": true
   },
   "outputs": [],
   "source": [
    "# N                -> population size\n",
    "# generations      -> no. of generations\n",
    "# crossover_prob   -> crossover probability \n",
    "# mutation_rate    -> mutation probability"
   ]
  },
  {
   "cell_type": "code",
   "execution_count": 10,
   "metadata": {
    "collapsed": false,
    "deletable": true,
    "editable": true,
    "scrolled": true
   },
   "outputs": [
    {
     "data": {
      "image/png": "[encoded data removed]",
      "text/plain": [
       "<matplotlib.figure.Figure at 0x2e094e17400>"
      ]
     },
     "metadata": {},
     "output_type": "display_data"
    },
    {
     "name": "stdout",
     "output_type": "stream",
     "text": [
      "Some valid schedulings:\n",
      "interval1: |40|10\n",
      "interval2: |35\n",
      "interval3: |20|15\n",
      "interval4: |20|15|15|15\n",
      "\n",
      "interval1: |40|10\n",
      "interval2: |35\n",
      "interval3: |20|15\n",
      "interval4: |20|15|15|15\n",
      "\n"
     ]
    }
   ],
   "source": [
    "# required parameters\n",
    "N = 20\n",
    "generations = 100\n",
    "crossover_prob = 0.7\n",
    "mutation_rate = 0.001\n",
    "\n",
    "# Applying Genetic Algorithm with required parameters\n",
    "best_fitness, avg_fitness, valid_schedulings = maintenance_scheduling(N,generations,crossover_prob,mutation_rate)\n",
    "\n",
    "# plotting\n",
    "Generations = [i for i in range(0,generations)]\n",
    "plt.plot(Generations,best_fitness,'*')\n",
    "plt.plot(Generations,avg_fitness,'.-')\n",
    "plt.legend(['Best Fitness','Avg Fitness'])\n",
    "plt.title('N = '+str(N)+' ,crossover prob. = '+str(crossover_prob)+', Mutation_rate = '+str(mutation_rate))\n",
    "plt.xlabel('Generations')\n",
    "plt.ylabel('Fitness')\n",
    "plt.show()\n",
    "\n",
    "# printing some valid schedulings\n",
    "print(\"Some valid schedulings:\")\n",
    "printSchedulings(valid_schedulings)"
   ]
  },
  {
   "cell_type": "code",
   "execution_count": 11,
   "metadata": {
    "collapsed": false,
    "deletable": true,
    "editable": true
   },
   "outputs": [
    {
     "data": {
      "image/png": "[encoded data removed]",
      "text/plain": [
       "<matplotlib.figure.Figure at 0x2e095264710>"
      ]
     },
     "metadata": {},
     "output_type": "display_data"
    },
    {
     "name": "stdout",
     "output_type": "stream",
     "text": [
      "Some valid schedulings:\n",
      "interval1: |20|15|15\n",
      "interval2: |20|15\n",
      "interval3: |35|15\n",
      "interval4: |40|10\n",
      "\n",
      "interval1: |20|15\n",
      "interval2: |20|15\n",
      "interval3: |35|15|15\n",
      "interval4: |40|10\n",
      "\n"
     ]
    }
   ],
   "source": [
    "# required parameters\n",
    "N = 100\n",
    "generations = 100\n",
    "crossover_prob = 0.7\n",
    "mutation_rate = 0.001\n",
    "\n",
    "# Applying Genetic Algorithm with required parameters\n",
    "best_fitness, avg_fitness, valid_schedulings = maintenance_scheduling(N,generations,crossover_prob,mutation_rate)\n",
    "\n",
    "# plotting\n",
    "Generations = [i for i in range(0,generations)]\n",
    "plt.plot(Generations,best_fitness,'*')\n",
    "plt.plot(Generations,avg_fitness,'.-')\n",
    "plt.legend(['Best Fitness','Avg Fitness'])\n",
    "plt.title('N = '+str(N)+' ,crossover prob. = '+str(crossover_prob)+', Mutation_rate = '+str(mutation_rate))\n",
    "plt.xlabel('Generations')\n",
    "plt.ylabel('Fitness')\n",
    "plt.show()\n",
    "\n",
    "# printing some valid schedulings\n",
    "print(\"Some valid schedulings:\")\n",
    "printSchedulings(valid_schedulings)"
   ]
  },
  {
   "cell_type": "code",
   "execution_count": 12,
   "metadata": {
    "collapsed": false,
    "deletable": true,
    "editable": true
   },
   "outputs": [
    {
     "data": {
      "image/png": "[encoded data removed]",
      "text/plain": [
       "<matplotlib.figure.Figure at 0x2e091afc940>"
      ]
     },
     "metadata": {},
     "output_type": "display_data"
    },
    {
     "name": "stdout",
     "output_type": "stream",
     "text": [
      "Some valid schedulings:\n",
      "interval1: |20|15\n",
      "interval2: |20|15\n",
      "interval3: |15|35|10\n",
      "interval4: |40|15\n",
      "\n",
      "interval1: |20|15\n",
      "interval2: |20|15\n",
      "interval3: |15|35|10\n",
      "interval4: |40|15\n",
      "\n"
     ]
    }
   ],
   "source": [
    "# required parameters\n",
    "N = 100\n",
    "generations = 100\n",
    "crossover_prob = 0.7\n",
    "mutation_rate = 0.01\n",
    "\n",
    "# Applying Genetic Algorithm with required parameters\n",
    "best_fitness, avg_fitness, valid_schedulings = maintenance_scheduling(N,generations,crossover_prob,mutation_rate)\n",
    "\n",
    "# plotting\n",
    "Generations = [i for i in range(0,generations)]\n",
    "plt.plot(Generations,best_fitness,'*')\n",
    "plt.plot(Generations,avg_fitness,'.-')\n",
    "plt.legend(['Best Fitness','Avg Fitness'])\n",
    "plt.title('N = '+str(N)+' ,crossover prob. = '+str(crossover_prob)+', Mutation_rate = '+str(mutation_rate))\n",
    "plt.xlabel('Generations')\n",
    "plt.ylabel('Fitness')\n",
    "plt.show()\n",
    "\n",
    "# printing some valid schedulings\n",
    "print(\"Some valid schedulings:\")\n",
    "printSchedulings(valid_schedulings)"
   ]
  },
  {
   "cell_type": "code",
   "execution_count": null,
   "metadata": {
    "collapsed": true,
    "deletable": true,
    "editable": true
   },
   "outputs": [],
   "source": []
  },
  {
   "cell_type": "code",
   "execution_count": 13,
   "metadata": {
    "collapsed": true,
    "deletable": true,
    "editable": true
   },
   "outputs": [],
   "source": [
    "#------------ N-queen(8-queen) --------------#"
   ]
  },
  {
   "cell_type": "code",
   "execution_count": 14,
   "metadata": {
    "collapsed": true,
    "deletable": true,
    "editable": true
   },
   "outputs": [],
   "source": [
    "def Nq_fitness(chromo):\n",
    "    fitness = 0\n",
    "    \n",
    "    # couting the no. of non-attacking queen pairs\n",
    "    for i in range(queens):\n",
    "        for j in range(i+1,queens):\n",
    "            if (chromo[i] == chromo[j] or chromo[j] - (j-i) == chromo[i] or chromo[j] + (j-i) == chromo[i]) == False:\n",
    "                fitness += 1\n",
    "    return fitness    "
   ]
  },
  {
   "cell_type": "code",
   "execution_count": 15,
   "metadata": {
    "collapsed": true,
    "deletable": true,
    "editable": true
   },
   "outputs": [],
   "source": [
    "def Nq_crossover(p1,p2,prob):\n",
    "    if np.random.random() < prob:\n",
    "        i, j = np.random.randint(0,queens), np.random.randint(0,queens)\n",
    "        if i>j : i, j = j, i\n",
    "        diff = np.array([x for x in p2 if x not in p1[i:j]])\n",
    "        c1 = np.concatenate([diff[:i],np.concatenate([p1[i:j],diff[i:]])])\n",
    "        diff = np.array([x for x in p1 if x not in p2[i:j]])\n",
    "        c2 = np.concatenate([diff[:i],np.concatenate([p2[i:j],diff[i:]])])\n",
    "        return c1,c2\n",
    "    return p1,p2"
   ]
  },
  {
   "cell_type": "code",
   "execution_count": 16,
   "metadata": {
    "collapsed": true,
    "deletable": true,
    "editable": true
   },
   "outputs": [],
   "source": [
    "def Nq_mutation(c,rate):\n",
    "    if np.random.random() < rate:\n",
    "        i, j = np.random.randint(0,queens), np.random.randint(0,queens)\n",
    "        c[i], c[j] = c[j], c[i]\n",
    "    return c"
   ]
  },
  {
   "cell_type": "code",
   "execution_count": 17,
   "metadata": {
    "collapsed": false,
    "deletable": true,
    "editable": true
   },
   "outputs": [],
   "source": [
    "def N_queen(N, queens, generations, crossover_prob, mutation_rate):\n",
    "    \n",
    "    # Generating Initial population of size N\n",
    "    arr = [i for i in range(queens)]\n",
    "    chromosomes = np.array([np.random.permutation(arr) for i in range(N)])\n",
    "\n",
    "    best_fitness = [0]*generations\n",
    "    avg_fitness = [0]*generations\n",
    "    valid_configs = []\n",
    "    \n",
    "    Generations = 0\n",
    "    \n",
    "    # Iterating for the given number of generations\n",
    "    while Generations < generations :\n",
    "        \n",
    "        # calculating the fitness values for the current generation\n",
    "        fitness_values = [Nq_fitness(i) for i in chromosomes]\n",
    "        total_fitness = sum(fitness_values)\n",
    "        \n",
    "        # calculating the fitness ratio for the current generation\n",
    "        fitness_ratios = [i/total_fitness for i in fitness_values]\n",
    "\n",
    "        # calculating best fitness and avg fitness values of current generation\n",
    "        best_fitness[Generations] = max(fitness_values)\n",
    "        avg_fitness[Generations] = total_fitness/N\n",
    "        \n",
    "        # extracting some valid configurations\n",
    "        if len(valid_configs) < 3:\n",
    "            [valid_configs.append(chromosomes[i]) for i in range(N) if fitness_values[i] == 28]\n",
    "\n",
    "        new_Generation = []\n",
    "        \n",
    "        # untill the new generation size equals the current generation\n",
    "        while len(new_Generation) < N:\n",
    "            \n",
    "            # Roulette wheel selection of parents based on fitness ratio\n",
    "            p1 = chromosomes[np.random.choice(N,replace = True,p = fitness_ratios)]\n",
    "            p2 = chromosomes[np.random.choice(N,replace = True,p = fitness_ratios)]\n",
    "            \n",
    "            # crossingover the parents to obtain offsprings\n",
    "            c1,c2 = Nq_crossover(p1,p2,crossover_prob)\n",
    "            \n",
    "            # mutation of offsprings\n",
    "            c1 = Nq_mutation(c1,mutation_rate)\n",
    "            c2 = Nq_mutation(c2,mutation_rate)\n",
    "            \n",
    "            # Adding offsprings to new generation\n",
    "            new_Generation.append(c1)\n",
    "            new_Generation.append(c2)\n",
    "\n",
    "        # Assingning new generation to current generation\n",
    "        chromosomes = new_Generation\n",
    "        Generations += 1\n",
    "               \n",
    "    return best_fitness, avg_fitness, valid_configs"
   ]
  },
  {
   "cell_type": "code",
   "execution_count": 18,
   "metadata": {
    "collapsed": false,
    "deletable": true,
    "editable": true
   },
   "outputs": [],
   "source": [
    "def printConfigs(configs):\n",
    "    x=0\n",
    "    while x<min(2,len(configs)):\n",
    "        configuration = [\"________\"]*queens\n",
    "        chromo = configs[x]\n",
    "        for i in range(queens):\n",
    "            configuration[i] = configuration[i][:chromo[i]]+'Q'+configuration[i][chromo[i]+1:]\n",
    "        x+=1\n",
    "        [print(i) for i in configuration]\n",
    "        print('')\n",
    "    "
   ]
  },
  {
   "cell_type": "code",
   "execution_count": 19,
   "metadata": {
    "collapsed": true,
    "deletable": true,
    "editable": true
   },
   "outputs": [],
   "source": [
    "# N                -> population size\n",
    "# queens           -> no. of queens (8)\n",
    "# generations      -> no. of generations\n",
    "# crossover_prob   -> crossover probability \n",
    "# mutation_rate    -> mutation probability"
   ]
  },
  {
   "cell_type": "code",
   "execution_count": 20,
   "metadata": {
    "collapsed": false,
    "deletable": true,
    "editable": true
   },
   "outputs": [
    {
     "data": {
      "image/png": "[encoded data removed]",
      "text/plain": [
       "<matplotlib.figure.Figure at 0x2e0952863c8>"
      ]
     },
     "metadata": {},
     "output_type": "display_data"
    },
    {
     "name": "stdout",
     "output_type": "stream",
     "text": [
      "Some valid configurations:\n",
      "Q_______\n",
      "_____Q__\n",
      "_______Q\n",
      "__Q_____\n",
      "______Q_\n",
      "___Q____\n",
      "_Q______\n",
      "____Q___\n",
      "\n",
      "___Q____\n",
      "Q_______\n",
      "____Q___\n",
      "_______Q\n",
      "_Q______\n",
      "______Q_\n",
      "__Q_____\n",
      "_____Q__\n",
      "\n"
     ]
    }
   ],
   "source": [
    "# required parameters\n",
    "N = 100\n",
    "queens = 8\n",
    "generations = 100\n",
    "crossover_prob = np.random.uniform(0.5,0.7)\n",
    "mutation_rate = 0.001\n",
    "\n",
    "# Applying Genetic Algorithm with required parameters\n",
    "Nq_best_fitness, Nq_avg_fitness, Nq_valid_configs = N_queen(N, queens, generations, crossover_prob, mutation_rate)\n",
    "\n",
    "# plotting\n",
    "Generations = [i for i in range(0,generations)]\n",
    "plt.plot(Generations,Nq_best_fitness,'.')\n",
    "plt.plot(Generations,Nq_avg_fitness,'.-')\n",
    "plt.legend(['Best Fitness','Avg Fitness'])\n",
    "plt.title('N = '+str(N)+' ,crossover prob. = '+str(crossover_prob)+', Mutation_rate = '+str(mutation_rate))\n",
    "plt.xlabel('Generations')\n",
    "plt.ylabel('Fitness')\n",
    "plt.show()\n",
    "\n",
    "# printing some valid configurations\n",
    "print(\"Some valid configurations:\")\n",
    "printConfigs(Nq_valid_configs)"
   ]
  },
  {
   "cell_type": "code",
   "execution_count": 21,
   "metadata": {
    "collapsed": false,
    "deletable": true,
    "editable": true
   },
   "outputs": [
    {
     "data": {
      "image/png": "[encoded data removed]",
      "text/plain": [
       "<matplotlib.figure.Figure at 0x2e0952762b0>"
      ]
     },
     "metadata": {},
     "output_type": "display_data"
    },
    {
     "name": "stdout",
     "output_type": "stream",
     "text": [
      "Some valid configurations:\n",
      "____Q___\n",
      "______Q_\n",
      "Q_______\n",
      "___Q____\n",
      "_Q______\n",
      "_______Q\n",
      "_____Q__\n",
      "__Q_____\n",
      "\n",
      "___Q____\n",
      "_____Q__\n",
      "_______Q\n",
      "_Q______\n",
      "______Q_\n",
      "Q_______\n",
      "__Q_____\n",
      "____Q___\n",
      "\n"
     ]
    }
   ],
   "source": [
    "# required parameters\n",
    "N = 100\n",
    "queens = 8\n",
    "generations = 200\n",
    "crossover_prob = np.random.uniform(0.5,0.7)\n",
    "mutation_rate = 0.001\n",
    "\n",
    "# Applying Genetic Algorithm with required parameters\n",
    "Nq_best_fitness, Nq_avg_fitness, Nq_valid_configs = N_queen(N, queens, generations, crossover_prob, mutation_rate)\n",
    "\n",
    "# plotting\n",
    "Generations = [i for i in range(0,generations)]\n",
    "plt.plot(Generations,Nq_best_fitness,'.')\n",
    "plt.plot(Generations,Nq_avg_fitness,'.-')\n",
    "plt.legend(['Best Fitness','Avg Fitness'])\n",
    "plt.title('N = '+str(N)+' ,crossover prob. = '+str(crossover_prob)+', Mutation_rate = '+str(mutation_rate))\n",
    "plt.xlabel('Generations')\n",
    "plt.ylabel('Fitness')\n",
    "plt.show()\n",
    "\n",
    "# printing some valid configurations\n",
    "print(\"Some valid configurations:\")\n",
    "printConfigs(Nq_valid_configs)"
   ]
  },
  {
   "cell_type": "code",
   "execution_count": 22,
   "metadata": {
    "collapsed": false,
    "deletable": true,
    "editable": true
   },
   "outputs": [
    {
     "data": {
      "image/png": "[encoded data removed]",
      "text/plain": [
       "<matplotlib.figure.Figure at 0x2e0952800f0>"
      ]
     },
     "metadata": {},
     "output_type": "display_data"
    },
    {
     "name": "stdout",
     "output_type": "stream",
     "text": [
      "Some valid configurations:\n",
      "______Q_\n",
      "__Q_____\n",
      "_______Q\n",
      "_Q______\n",
      "____Q___\n",
      "Q_______\n",
      "_____Q__\n",
      "___Q____\n",
      "\n",
      "______Q_\n",
      "___Q____\n",
      "_Q______\n",
      "____Q___\n",
      "_______Q\n",
      "Q_______\n",
      "__Q_____\n",
      "_____Q__\n",
      "\n"
     ]
    }
   ],
   "source": [
    "# required parameters\n",
    "N = 500\n",
    "queens = 8\n",
    "generations = 100\n",
    "crossover_prob = np.random.uniform(0.5,0.7)\n",
    "mutation_rate = 0.001\n",
    "\n",
    "# Applying Genetic Algorithm with required parameters\n",
    "Nq_best_fitness, Nq_avg_fitness, Nq_valid_configs = N_queen(N, queens, generations, crossover_prob, mutation_rate)\n",
    "\n",
    "# plotting\n",
    "Generations = [i for i in range(0,generations)]\n",
    "plt.plot(Generations,Nq_best_fitness,'.')\n",
    "plt.plot(Generations,Nq_avg_fitness,'.-')\n",
    "plt.legend(['Best Fitness','Avg Fitness'])\n",
    "plt.title('N = '+str(N)+' ,crossover prob. = '+str(crossover_prob)+', Mutation_rate = '+str(mutation_rate))\n",
    "plt.xlabel('Generations')\n",
    "plt.ylabel('Fitness')\n",
    "plt.show()\n",
    "\n",
    "# printing some valid configurations\n",
    "print(\"Some valid configurations:\")\n",
    "printConfigs(Nq_valid_configs)"
   ]
  },
  {
   "cell_type": "code",
   "execution_count": 23,
   "metadata": {
    "collapsed": false,
    "deletable": true,
    "editable": true
   },
   "outputs": [
    {
     "data": {
      "image/png": "[encoded data removed]",
      "text/plain": [
       "<matplotlib.figure.Figure at 0x2e095413198>"
      ]
     },
     "metadata": {},
     "output_type": "display_data"
    },
    {
     "name": "stdout",
     "output_type": "stream",
     "text": [
      "Some valid configurations:\n",
      "___Q____\n",
      "_Q______\n",
      "_______Q\n",
      "____Q___\n",
      "______Q_\n",
      "Q_______\n",
      "__Q_____\n",
      "_____Q__\n",
      "\n",
      "_____Q__\n",
      "__Q_____\n",
      "______Q_\n",
      "_Q______\n",
      "_______Q\n",
      "____Q___\n",
      "Q_______\n",
      "___Q____\n",
      "\n"
     ]
    }
   ],
   "source": [
    "# required parameters\n",
    "N = 1000\n",
    "queens = 8\n",
    "generations = 100\n",
    "crossover_prob = np.random.uniform(0.5,0.7)\n",
    "mutation_rate = 0.001\n",
    "\n",
    "# Applying Genetic Algorithm with required parameters\n",
    "Nq_best_fitness, Nq_avg_fitness, Nq_valid_configs = N_queen(N, queens, generations, crossover_prob, mutation_rate)\n",
    "\n",
    "# plotting\n",
    "Generations = [i for i in range(0,generations)]\n",
    "plt.plot(Generations,Nq_best_fitness,'.')\n",
    "plt.plot(Generations,Nq_avg_fitness,'.-')\n",
    "plt.legend(['Best Fitness','Avg Fitness'])\n",
    "plt.title('N = '+str(N)+' ,crossover prob. = '+str(crossover_prob)+', Mutation_rate = '+str(mutation_rate))\n",
    "plt.xlabel('Generations')\n",
    "plt.ylabel('Fitness')\n",
    "plt.show()\n",
    "\n",
    "# printing some valid configurations\n",
    "print(\"Some valid configurations:\")\n",
    "printConfigs(Nq_valid_configs)"
   ]
  },
  {
   "cell_type": "code",
   "execution_count": null,
   "metadata": {
    "collapsed": true,
    "deletable": true,
    "editable": true
   },
   "outputs": [],
   "source": []
  }
 ],
 "metadata": {
  "kernelspec": {
   "display_name": "Python 3",
   "language": "python",
   "name": "python3"
  },
  "language_info": {
   "codemirror_mode": {
    "name": "ipython",
    "version": 3
   },
   "file_extension": ".py",
   "mimetype": "text/x-python",
   "name": "python",
   "nbconvert_exporter": "python",
   "pygments_lexer": "ipython3",
   "version": "3.5.2"
  }
 },
 "nbformat": 4,
 "nbformat_minor": 2
}
