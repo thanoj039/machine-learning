{
 "cells": [
  {
   "cell_type": "code",
   "execution_count": 101,
   "metadata": {
    "collapsed": true,
    "deletable": true,
    "editable": true
   },
   "outputs": [],
   "source": [
    "# k-means clustering implementation\n",
    "\n",
    "# Importing libraries\n",
    "import numpy as np\n",
    "from matplotlib import pyplot as plt\n",
    "import random\n",
    "from PIL import Image, ImageColor"
   ]
  },
  {
   "cell_type": "code",
   "execution_count": 102,
   "metadata": {
    "collapsed": false,
    "deletable": true,
    "editable": true
   },
   "outputs": [],
   "source": [
    "# loading the input image\n",
    "img = np.zeros(shape = (512,512), dtype = np.float64)\n",
    "img = plt.imread('input/1.jpg')[:,:,0]\n",
    "\n",
    "# Assigning different colors for different clusters\n",
    "colors = ['yellow','red','green','black','deepskyblue']"
   ]
  },
  {
   "cell_type": "code",
   "execution_count": 103,
   "metadata": {
    "collapsed": true,
    "deletable": true,
    "editable": true
   },
   "outputs": [],
   "source": [
    "# Taking epsilon value >= 0\n",
    "# Reducing epsilon value gives more accurate classification and also takes much time\n",
    "# Increase epsilon value for faster output \n",
    "epsilon = 0.01\n",
    "\n",
    "out_Image = np.zeros(shape=(512,512,3), dtype = np.float64)               # to store output images\n",
    "\n",
    "# Applying k-means clustering algo.\n",
    "# for x no. of clusters(2,3,4,5)\n",
    "for x in range(2,6):\n",
    "    \n",
    "    # initailizing a looping variable\n",
    "    loop = 1\n",
    "    \n",
    "    # initializing x-random centers\n",
    "    k = np.random.uniform(0, 256, size=(x))\n",
    "    k.sort()\n",
    "    \n",
    "    while loop == 1 :\n",
    "        \n",
    "        k2 = np.zeros(shape=(x),dtype=np.float64)                # to store next means of clusters\n",
    "        count = np.zeros(shape=(x),dtype=np.integer)             # to store the size of each cluster\n",
    "        \n",
    "        # for every pixel finding the nearest center\n",
    "        for i in range(512):\n",
    "            for j in range(512):\n",
    "                min_dist = abs(k[0]-img[i,j])                    # calculating absolute minimum distance\n",
    "                index = 0                                        # keeping track of the particular cluster \n",
    "                for c in range(1,x):\n",
    "                    dist = abs(k[c]-img[i,j])\n",
    "                    if dist < min_dist:\n",
    "                        index = c\n",
    "                        min_dist = dist\n",
    "                \n",
    "                # increasing the count of the cluster to which the pixel belongs to.\n",
    "                count[index]+=1\n",
    "                \n",
    "                # adding the pixel value to the particular mean sum\n",
    "                k2[index]+=img[i,j]\n",
    "                \n",
    "                # Assigning the color to the pixel based on the cluster it belong to.\n",
    "                out_Image[i,j] = ImageColor.getrgb(colors[index])\n",
    "                \n",
    "        # finding the next means by dividing sum of each cluster with size of each cluster\n",
    "        for i in range(x):\n",
    "            if count[i]!=0:                     # making sure that denominator is not 0\n",
    "                k2[i]=k2[i]/float(count[i])\n",
    "                \n",
    "        # halting the loop -> if maximum difference between the next means and current means is less than epsilon value\n",
    "        if max(abs(k2-k)) < epsilon :\n",
    "            loop = 0\n",
    "        \n",
    "        # Assingning next means to current means\n",
    "        k = k2\n",
    "    \n",
    "    # forming the array from the out_img array\n",
    "    im = Image.fromarray(out_Image.astype('uint8'),\"RGB\")\n",
    "    \n",
    "    # saving the images in output folder\n",
    "    im.save('output/k_'+str(x)+'.jpg')\n",
    "    \n",
    "    # Displaying the images\n",
    "    im.show()\n"
   ]
  },
  {
   "cell_type": "code",
   "execution_count": null,
   "metadata": {
    "collapsed": true
   },
   "outputs": [],
   "source": []
  }
 ],
 "metadata": {
  "kernelspec": {
   "display_name": "Python 3",
   "language": "python",
   "name": "python3"
  },
  "language_info": {
   "codemirror_mode": {
    "name": "ipython",
    "version": 3
   },
   "file_extension": ".py",
   "mimetype": "text/x-python",
   "name": "python",
   "nbconvert_exporter": "python",
   "pygments_lexer": "ipython3",
   "version": "3.5.2"
  }
 },
 "nbformat": 4,
 "nbformat_minor": 2
}
