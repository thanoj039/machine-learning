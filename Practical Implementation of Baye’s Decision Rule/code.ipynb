{
 "cells": [
  {
   "cell_type": "code",
   "execution_count": 3,
   "metadata": {
    "collapsed": true,
    "deletable": true,
    "editable": true
   },
   "outputs": [],
   "source": [
    "# importing libraries\n",
    "from PIL import Image\n",
    "from numpy.linalg import inv\n",
    "from matplotlib import pyplot as plt\n",
    "from matplotlib.image import imread\n",
    "import numpy as np\n",
    "import os"
   ]
  },
  {
   "cell_type": "code",
   "execution_count": 4,
   "metadata": {
    "collapsed": true,
    "deletable": true,
    "editable": true
   },
   "outputs": [],
   "source": [
    "img_path = 'images_assgn/'\n",
    "\n",
    "# cropping the images to 512x512 (Removing white space around images)\n",
    "# acquired co-ordinates using MSpaint(Grid & Scaling)\n",
    "coords = (82, 30, 594, 542)\n",
    "for i in range(1,5):\n",
    "    image_obj = Image.open(img_path+str(i)+'.jpg')\n",
    "    cropped_image = image_obj.crop(coords)\n",
    "    cropped_image.save(img_path+str(i)+'_cropped.jpg')\n",
    "\n",
    "imageList = np.ndarray(shape=(512,512,4), dtype=np.integer)\n",
    "\n",
    "# Loading the training images\n",
    "for i in range(4):\n",
    "    img = plt.imread(img_path + str(i+1)+'_cropped.jpg')\n",
    "    imageList[:,:,i] = np.array(img[:,:,0])"
   ]
  },
  {
   "cell_type": "code",
   "execution_count": 5,
   "metadata": {
    "collapsed": false,
    "deletable": true,
    "editable": true
   },
   "outputs": [],
   "source": [
    "# Taking random sample points using MSpaint(Grid & Scaling)\n",
    "x_river = [159,158,153,154,163,167,171,217,160,213,173,163,185,216,159,162,186,170,150,159,\n",
    "           186,211,164,218,228,156,179,151,173,145,185,186,181,213,159,208,\n",
    "          158,191,224,218,178,170,183,171,218,214,218,151,158,225]\n",
    "y_river = [6,38,16,7,30,129,166,292,32,287,127,159,254,286,156,156,233,461,12,45,229,347,47,324,322,16,120,\n",
    "           6,457,19,233,232,228,282,18,292,20,247,314,344,120,34,233,128,351,287,280,7,9,313]\n",
    "x_non_river = [32,52,348,485,231,123,343,234,435,372,325,141,263,248,72,237,283,492,132,86,116,224,298,479,238,259,431,461,411,277,388,206,469,392,129,371,\n",
    "            108,426,111,424,415,426,101,124,398,45,476,78,268,335,372,124,304,58,357,338,270,440,310,281,428,222,468,417,332,321,469,443,410,410,441,68,\n",
    "            235,460,463,375,68,454,314,316,274,101,114,362,390,257,324,292,474,455,468,455,473,230,413,360,55,313,418,488]\n",
    "y_non_river = [436,252,476,307,93,116,490,468,400,452,307,309,35,301,450,148,41,450,295,452,312,211,36,430,56,51,446,490,29,480,99,55,408,91,126,175,\n",
    "            401,483,142,410,189,302,268,112,121,432,221,260,348,412,159,406,220,446,307,476,144,416,96,246,24,185,90,235,252,440,52,116,388,104,62,128,\n",
    "            161,480,422,287,130,318,143,357,93,440,279,303,58,224,347,74,35,452,56,458,463,60,306,334,145,470,40,184]"
   ]
  },
  {
   "cell_type": "code",
   "execution_count": 6,
   "metadata": {
    "collapsed": false,
    "deletable": true,
    "editable": true
   },
   "outputs": [],
   "source": [
    "# calculating means\n",
    "# River Class : T1 = [Mean1; Mean2; Mean3; Mean4];\n",
    "T1 = np.zeros(shape=(4), dtype=np.float64)\n",
    "for i in range(50):\n",
    "    for j in range(4):\n",
    "        T1[j] = T1[j] + imageList[x_river[i],y_river[i],j]\n",
    "T1 = T1/50\n",
    "\n",
    "# NonRiver Class : T2 = [Mean1; Mean2; Mean3; Mean4];\n",
    "T2 = np.zeros(shape=(4), dtype=np.float64)\n",
    "for i in range(100):\n",
    "    for j in range(4):\n",
    "        T2[j] = T2[j] + imageList[x_non_river[i],y_non_river[i],j]\n",
    "T2 = T2/100"
   ]
  },
  {
   "cell_type": "code",
   "execution_count": 41,
   "metadata": {
    "collapsed": true,
    "deletable": true,
    "editable": true
   },
   "outputs": [],
   "source": [
    "# calculating co-variance matrices\n",
    "riverMat=np.ndarray(shape=(50,4))\n",
    "non_riverMat=np.ndarray(shape=(100,4))\n",
    "\n",
    "# Deviation matrices of river and non_river data\n",
    "for i in range(50):\n",
    "    riverMat[i] = np.subtract(imageList[x_river[i],y_river[i],:],T1)\n",
    "for i in range(100):\n",
    "    non_riverMat[i] = np.subtract(imageList[x_non_river[i],y_non_river[i],:],T2)\n",
    "    \n",
    "river_cov_mat = np.ndarray(shape=(4, 4), dtype=np.float64)\n",
    "non_river_cov_mat = np.ndarray(shape=(4, 4), dtype=np.float64)\n",
    "\n",
    "# covariance matrices using deviation matrices\n",
    "for i in range(4):\n",
    "    for j in range(4):\n",
    "        river_cov_mat[i][j]=np.dot(riverMat[:,i],riverMat[:,j])/50\n",
    "\n",
    "for i in range(4):\n",
    "    for j in range(4):\n",
    "        non_river_cov_mat[i][j]=np.dot(non_riverMat[:,i],non_riverMat[:,j])/100"
   ]
  },
  {
   "cell_type": "code",
   "execution_count": 42,
   "metadata": {
    "collapsed": true,
    "deletable": true,
    "editable": true
   },
   "outputs": [],
   "source": [
    "# Applying Baye's decision rule\n",
    "P = [0.3, 0.5, 0.7]\n",
    "for x in range(3):\n",
    "    P1=P[x]\n",
    "    P2=1-P1\n",
    "    output=np.zeros(shape=(512, 512), dtype = np.integer)\n",
    "    for i in range(512):\n",
    "        for j in range(512):\n",
    "            dev_riv = np.subtract(imageList[i,j,:],T1)\n",
    "            dev_non_riv = np.subtract(imageList[i,j,:],T2)\n",
    "            river_class = np.dot(np.dot(dev_riv.T,inv(river_cov_mat)), dev_riv)\n",
    "            non_river_class = np.dot(np.dot(dev_non_riv.T,inv(non_river_cov_mat)), dev_non_riv)\n",
    "            p1 = (-0.5) * np.exp(river_class)/np.sqrt(np.linalg.det(river_cov_mat));             # calculating probability\n",
    "            p2 = (-0.5) * np.exp(non_river_class)/np.sqrt(np.linalg.det(non_river_cov_mat));     # densities\n",
    "            # Bayes's Decision\n",
    "            if((P1 * p1) >= (P2 * p2)):\n",
    "                output[i,j]=255\n",
    "    # saving the output images in output folder\n",
    "    plt.imsave('output/output'+str(x+1)+'.png',output,cmap='gray')"
   ]
  },
  {
   "cell_type": "code",
   "execution_count": null,
   "metadata": {
    "collapsed": true,
    "deletable": true,
    "editable": true
   },
   "outputs": [],
   "source": []
  }
 ],
 "metadata": {
  "kernelspec": {
   "display_name": "Python 3",
   "language": "python",
   "name": "python3"
  },
  "language_info": {
   "codemirror_mode": {
    "name": "ipython",
    "version": 3
   },
   "file_extension": ".py",
   "mimetype": "text/x-python",
   "name": "python",
   "nbconvert_exporter": "python",
   "pygments_lexer": "ipython3",
   "version": "3.5.2"
  }
 },
 "nbformat": 4,
 "nbformat_minor": 2
}
